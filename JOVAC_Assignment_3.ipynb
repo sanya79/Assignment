{
 "cells": [
  {
   "cell_type": "code",
   "execution_count": 36,
   "id": "bdbdcaa2-f86a-4aa7-bc72-1176b947da33",
   "metadata": {},
   "outputs": [
    {
     "name": "stdout",
     "output_type": "stream",
     "text": [
      "A    25\n",
      "B    30\n",
      "C    35\n",
      "D    40\n",
      "E    45\n",
      "dtype: int64\n",
      "A    25\n",
      "B    30\n",
      "C    35\n",
      "dtype: int64\n",
      "Mean: 35.0\n",
      "Median: 35.0\n",
      "Standard Deviation: 7.905694150420948\n"
     ]
    }
   ],
   "source": [
    "# Task 1: Working with Series \n",
    "\n",
    "import pandas as pd\n",
    "\n",
    "data = [25, 30, 35, 40, 45]\n",
    "series = pd.Series(data, index=['A', 'B', 'C', 'D', 'E'])\n",
    "\n",
    "print(series)\n",
    "print(series.head(3))\n",
    "\n",
    "mean_val = series.mean()\n",
    "median_val = series.median()\n",
    "std_dev = series.std()\n",
    "\n",
    "print(f\"Mean: {mean_val}\")\n",
    "print(f\"Median: {median_val}\")\n",
    "print(f\"Standard Deviation: {std_dev}\")\n"
   ]
  },
  {
   "cell_type": "code",
   "execution_count": 37,
   "id": "e13c3799-d025-4b07-9227-a67b2ea03c4c",
   "metadata": {},
   "outputs": [
    {
     "name": "stdout",
     "output_type": "stream",
     "text": [
      "      Name  Age  Gender  Marks\n",
      "0      Jay   20  Female     85\n",
      "1  Jasmine   22  Female     78\n",
      "\n",
      "Column: ['Name', 'Age', 'Gender', 'Marks']\n",
      "\n",
      "Data Types:\n",
      " Name      object\n",
      "Age        int64\n",
      "Gender    object\n",
      "Marks      int64\n",
      "dtype: object\n",
      "\n",
      "Summary Statistics:\n",
      "        Name        Age  Gender      Marks\n",
      "count     5   5.000000       5   5.000000\n",
      "unique    5        NaN       2        NaN\n",
      "top     Jay        NaN  Female        NaN\n",
      "freq      1        NaN       3        NaN\n",
      "mean    NaN  20.400000     NaN  83.400000\n",
      "std     NaN   1.140175     NaN   7.334848\n",
      "min     NaN  19.000000     NaN  74.000000\n",
      "25%     NaN  20.000000     NaN  78.000000\n",
      "50%     NaN  20.000000     NaN  85.000000\n",
      "75%     NaN  21.000000     NaN  88.000000\n",
      "max     NaN  22.000000     NaN  92.000000\n",
      "\n",
      "DataFrame with 'Passed' column:\n",
      "       Name  Age  Gender  Marks  Passed\n",
      "0      Jay   20  Female     85    True\n",
      "1  Jasmine   22  Female     78   False\n",
      "2     Yuri   19    Male     92    True\n",
      "3    David   21    Male     74   False\n",
      "4     Ella   20  Female     88    True\n"
     ]
    }
   ],
   "source": [
    "# Task 2: Creating and Inspecting DataFrames \n",
    "\n",
    "data = {\n",
    "    \"Name\": [\"Jay\", \"Jasmine\", \"Yuri\", \"David\", \"Ella\"],\n",
    "    \"Age\": [20, 22, 19, 21, 20],\n",
    "    \"Gender\": [\"Female\", \"Female\", \"Male\", \"Male\", \"Female\"],\n",
    "    \"Marks\": [85, 78, 92, 74, 88]\n",
    "}\n",
    "\n",
    "df = pd.DataFrame(data)\n",
    "print(df.head(2))\n",
    "\n",
    "print(\"\\nColumn:\",df.columns.tolist())\n",
    "print(\"\\nData Types:\\n\",df.dtypes)\n",
    "print(\"\\nSummary Statistics:\\n\",df.describe(include='all'))\n",
    "\n",
    "df['Passed'] = df['Marks'] >= 80\n",
    "print(\"\\nDataFrame with 'Passed' column:\\n\",df)\n",
    "\n"
   ]
  },
  {
   "cell_type": "code",
   "execution_count": 38,
   "id": "80e1c32e-1502-4c06-8419-601913746131",
   "metadata": {},
   "outputs": [
    {
     "name": "stdout",
     "output_type": "stream",
     "text": [
      "      Name  Marks\n",
      "0      Jay     85\n",
      "1  Jasmine     78\n",
      "2     Yuri     92\n",
      "3    David     74\n",
      "4     Ella     88\n",
      "   Name  Age  Gender  Marks  Passed\n",
      "0   Jay   20  Female     85    True\n",
      "2  Yuri   19    Male     92    True\n",
      "4  Ella   20  Female     88    True\n",
      "   Name  Age Gender  Marks  Passed\n",
      "2  Yuri   19   Male     92    True\n"
     ]
    }
   ],
   "source": [
    "# Task 3: Data Selection and Filtering \n",
    "\n",
    "print(df[['Name', 'Marks']])\n",
    "print(df[df['Marks'] > 80])\n",
    "max_marks = df['Marks'].max()\n",
    "topper = df[df['Marks'] == max_marks]\n",
    "print(topper)\n"
   ]
  },
  {
   "cell_type": "code",
   "execution_count": 39,
   "id": "fa68d52c-2995-4a57-a6bb-d4cbfb34cd96",
   "metadata": {},
   "outputs": [
    {
     "name": "stdout",
     "output_type": "stream",
     "text": [
      "\n",
      "Missing value:\n",
      "     Name    Age  Gender  Marks  Passed\n",
      "0  False  False   False  False   False\n",
      "1  False  False   False   True   False\n",
      "2  False  False   False  False   False\n",
      "3  False  False   False  False   False\n",
      "4  False   True   False  False   False\n",
      "\n",
      "DataFrame after filling missing 'Marks' with mean:\n",
      "       Name   Age  Gender  Marks  Passed\n",
      "0      Jay  20.0  Female  85.00    True\n",
      "1  Jasmine  22.0  Female  84.75   False\n",
      "2     Yuri  19.0    Male  92.00    True\n",
      "3    David  21.0    Male  74.00   False\n",
      "4     Ella   NaN  Female  88.00    True\n",
      "\n",
      "DataFrame after dropping rows with missing 'Age':\n",
      "       Name   Age  Gender  Marks  Passed\n",
      "0      Jay  20.0  Female  85.00    True\n",
      "1  Jasmine  22.0  Female  84.75   False\n",
      "2     Yuri  19.0    Male  92.00    True\n",
      "3    David  21.0    Male  74.00   False\n"
     ]
    },
    {
     "name": "stderr",
     "output_type": "stream",
     "text": [
      "C:\\Users\\katiy\\AppData\\Local\\Temp\\ipykernel_53056\\4288456569.py:7: FutureWarning: A value is trying to be set on a copy of a DataFrame or Series through chained assignment using an inplace method.\n",
      "The behavior will change in pandas 3.0. This inplace method will never work because the intermediate object on which we are setting values always behaves as a copy.\n",
      "\n",
      "For example, when doing 'df[col].method(value, inplace=True)', try using 'df.method({col: value}, inplace=True)' or df[col] = df[col].method(value) instead, to perform the operation inplace on the original object.\n",
      "\n",
      "\n",
      "  df['Marks'].fillna(mean_marks, inplace=True)\n"
     ]
    }
   ],
   "source": [
    "# Task 4: Handling Missing Data \n",
    "\n",
    "df.loc[1, 'Marks'] = None   \n",
    "df.loc[4, 'Age'] = None   \n",
    "print(\"\\nMissing value:\\n\",df.isnull())\n",
    "mean_marks = df['Marks'].mean()\n",
    "df['Marks'].fillna(mean_marks, inplace=True)\n",
    "print(\"\\nDataFrame after filling missing 'Marks' with mean:\\n\",df)\n",
    "df_cleaned = df.dropna(subset=['Age'])\n",
    "print(\"\\nDataFrame after dropping rows with missing 'Age':\\n\",df_cleaned)\n",
    "\n"
   ]
  },
  {
   "cell_type": "code",
   "execution_count": 40,
   "id": "e85c68f7-e30a-4497-9249-2464d0473b69",
   "metadata": {},
   "outputs": [
    {
     "name": "stdout",
     "output_type": "stream",
     "text": [
      "Mean Age and Marks grouped by Gender:\n",
      "          Age      Marks\n",
      "Gender                 \n",
      "Female  21.0  85.916667\n",
      "Male    20.0  83.000000\n",
      "\n",
      "Number of students in each gender group:\n",
      " Gender\n",
      "Female    3\n",
      "Male      2\n",
      "Name: count, dtype: int64\n"
     ]
    }
   ],
   "source": [
    "# Task 5: Grouping and Aggregation \n",
    "\n",
    "gender_mean = df.groupby('Gender')[['Age', 'Marks']].mean()\n",
    "print(\"Mean Age and Marks grouped by Gender:\\n\",gender_mean)\n",
    "gender_count = df['Gender'].value_counts()\n",
    "print(\"\\nNumber of students in each gender group:\\n\",gender_count)\n",
    "\n"
   ]
  },
  {
   "cell_type": "code",
   "execution_count": 41,
   "id": "0c4c92ba-b6c6-4ba3-b5d2-f84bb4a93370",
   "metadata": {},
   "outputs": [
    {
     "name": "stdout",
     "output_type": "stream",
     "text": [
      "      Name   Age  Gender  Marks  Passed\n",
      "0      Jay  20.0  Female  85.00    True\n",
      "1  Jasmine  22.0  Female  84.75   False\n",
      "2     Yuri  19.0    Male  92.00    True\n",
      "3    David  21.0    Male  74.00   False\n"
     ]
    },
    {
     "name": "stderr",
     "output_type": "stream",
     "text": [
      "C:\\Users\\katiy\\AppData\\Local\\Temp\\ipykernel_53056\\578651267.py:3: FutureWarning: A value is trying to be set on a copy of a DataFrame or Series through chained assignment using an inplace method.\n",
      "The behavior will change in pandas 3.0. This inplace method will never work because the intermediate object on which we are setting values always behaves as a copy.\n",
      "\n",
      "For example, when doing 'df[col].method(value, inplace=True)', try using 'df.method({col: value}, inplace=True)' or df[col] = df[col].method(value) instead, to perform the operation inplace on the original object.\n",
      "\n",
      "\n",
      "  df['Marks'].fillna(df['Marks'].mean(), inplace=True)\n"
     ]
    }
   ],
   "source": [
    "# Task 6: Reading and Writing Data \n",
    "\n",
    "df['Marks'].fillna(df['Marks'].mean(), inplace=True)\n",
    "df_cleaned = df.dropna(subset=['Age'])\n",
    "df_cleaned.to_csv(\"student_marks.csv\", index=False)\n",
    "new_df = pd.read_csv(\"student_marks.csv\")\n",
    "print(new_df)\n"
   ]
  },
  {
   "cell_type": "code",
   "execution_count": 42,
   "id": "a882e63b-144b-4693-8b57-a57619f04b04",
   "metadata": {},
   "outputs": [
    {
     "name": "stdout",
     "output_type": "stream",
     "text": [
      "   survived  pclass     sex   age  sibsp  parch     fare embarked  class  \\\n",
      "0         0       3    male  22.0      1      0   7.2500        S  Third   \n",
      "1         1       1  female  38.0      1      0  71.2833        C  First   \n",
      "2         1       3  female  26.0      0      0   7.9250        S  Third   \n",
      "3         1       1  female  35.0      1      0  53.1000        S  First   \n",
      "4         0       3    male  35.0      0      0   8.0500        S  Third   \n",
      "\n",
      "     who  adult_male deck  embark_town alive  alone  \n",
      "0    man        True  NaN  Southampton    no  False  \n",
      "1  woman       False    C    Cherbourg   yes  False  \n",
      "2  woman       False  NaN  Southampton   yes   True  \n",
      "3  woman       False    C  Southampton   yes  False  \n",
      "4    man        True  NaN  Southampton    no   True  \n",
      "          survived      pclass   sex         age       sibsp       parch  \\\n",
      "count   891.000000  891.000000   891  714.000000  891.000000  891.000000   \n",
      "unique         NaN         NaN     2         NaN         NaN         NaN   \n",
      "top            NaN         NaN  male         NaN         NaN         NaN   \n",
      "freq           NaN         NaN   577         NaN         NaN         NaN   \n",
      "mean      0.383838    2.308642   NaN   29.699118    0.523008    0.381594   \n",
      "std       0.486592    0.836071   NaN   14.526497    1.102743    0.806057   \n",
      "min       0.000000    1.000000   NaN    0.420000    0.000000    0.000000   \n",
      "25%       0.000000    2.000000   NaN   20.125000    0.000000    0.000000   \n",
      "50%       0.000000    3.000000   NaN   28.000000    0.000000    0.000000   \n",
      "75%       1.000000    3.000000   NaN   38.000000    1.000000    0.000000   \n",
      "max       1.000000    3.000000   NaN   80.000000    8.000000    6.000000   \n",
      "\n",
      "              fare embarked  class  who adult_male deck  embark_town alive  \\\n",
      "count   891.000000      889    891  891        891  203          889   891   \n",
      "unique         NaN        3      3    3          2    7            3     2   \n",
      "top            NaN        S  Third  man       True    C  Southampton    no   \n",
      "freq           NaN      644    491  537        537   59          644   549   \n",
      "mean     32.204208      NaN    NaN  NaN        NaN  NaN          NaN   NaN   \n",
      "std      49.693429      NaN    NaN  NaN        NaN  NaN          NaN   NaN   \n",
      "min       0.000000      NaN    NaN  NaN        NaN  NaN          NaN   NaN   \n",
      "25%       7.910400      NaN    NaN  NaN        NaN  NaN          NaN   NaN   \n",
      "50%      14.454200      NaN    NaN  NaN        NaN  NaN          NaN   NaN   \n",
      "75%      31.000000      NaN    NaN  NaN        NaN  NaN          NaN   NaN   \n",
      "max     512.329200      NaN    NaN  NaN        NaN  NaN          NaN   NaN   \n",
      "\n",
      "       alone  \n",
      "count    891  \n",
      "unique     2  \n",
      "top     True  \n",
      "freq     537  \n",
      "mean     NaN  \n",
      "std      NaN  \n",
      "min      NaN  \n",
      "25%      NaN  \n",
      "50%      NaN  \n",
      "75%      NaN  \n",
      "max      NaN  \n",
      "survived         0\n",
      "pclass           0\n",
      "sex              0\n",
      "age            177\n",
      "sibsp            0\n",
      "parch            0\n",
      "fare             0\n",
      "embarked         2\n",
      "class            0\n",
      "who              0\n",
      "adult_male       0\n",
      "deck           688\n",
      "embark_town      2\n",
      "alive            0\n",
      "alone            0\n",
      "dtype: int64\n"
     ]
    },
    {
     "data": {
      "image/png": "[encoded data removed]",
      "text/plain": [
       "<Figure size 600x400 with 1 Axes>"
      ]
     },
     "metadata": {},
     "output_type": "display_data"
    }
   ],
   "source": [
    "# Task 7: General \n",
    "\n",
    "import seaborn as sns\n",
    "import matplotlib.pyplot as plt\n",
    "\n",
    "df = sns.load_dataset('titanic') \n",
    "\n",
    "print(df.head())\n",
    "print(df.describe(include='all'))\n",
    "print(df.isnull().sum())\n",
    "\n",
    "plt.figure(figsize=(6, 4))\n",
    "sns.histplot(df['age'].dropna(), bins=20, kde=True)\n",
    "plt.title(\"Age Distribution\")\n",
    "plt.xlabel(\"Age\")\n",
    "plt.ylabel(\"Frequency\")\n",
    "plt.show()\n",
    "\n"
   ]
  }
 ],
 "metadata": {
  "kernelspec": {
   "display_name": "Python [conda env:base] *",
   "language": "python",
   "name": "conda-base-py"
  },
  "language_info": {
   "codemirror_mode": {
    "name": "ipython",
    "version": 3
   },
   "file_extension": ".py",
   "mimetype": "text/x-python",
   "name": "python",
   "nbconvert_exporter": "python",
   "pygments_lexer": "ipython3",
   "version": "3.12.7"
  }
 },
 "nbformat": 4,
 "nbformat_minor": 5
}
