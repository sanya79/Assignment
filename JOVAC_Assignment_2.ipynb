{
 "cells": [
  {
   "cell_type": "code",
   "execution_count": 6,
   "id": "ce996307-0a9e-43c7-906a-cc1aa32598e1",
   "metadata": {},
   "outputs": [
    {
     "name": "stdout",
     "output_type": "stream",
     "text": [
      "1D Array:\n",
      "[ 1  2  3  4  5  6  7  8  9 10]\n",
      "Shape: (10,), Size: 10, Data type: int32\n",
      "\n",
      "2D Array:\n",
      "[[1 2 3]\n",
      " [4 5 6]\n",
      " [7 8 9]]\n",
      "Shape: (3, 3), Size: 9, Data type: int32\n",
      "\n",
      "3D Array:\n",
      "[[[0.89139445 0.02491865 0.60882433]\n",
      "  [0.79097494 0.99454045 0.10585927]\n",
      "  [0.19916823 0.95355412 0.43584159]\n",
      "  [0.01196941 0.01343623 0.37255312]\n",
      "  [0.68497698 0.94340341 0.00187502]]\n",
      "\n",
      " [[0.30176876 0.07756523 0.72688666]\n",
      "  [0.92448606 0.5072823  0.0081353 ]\n",
      "  [0.16687708 0.79405024 0.07177209]\n",
      "  [0.26232197 0.31649497 0.66709247]\n",
      "  [0.4635448  0.48320709 0.08837408]]\n",
      "\n",
      " [[0.06407093 0.38444225 0.34196449]\n",
      "  [0.9238853  0.86092274 0.21301676]\n",
      "  [0.33656618 0.18666851 0.10592636]\n",
      "  [0.62874601 0.68108457 0.90250236]\n",
      "  [0.24207844 0.8216656  0.01665534]]]\n",
      "Shape: (3, 5, 3), Size: 45, Data type: float64\n"
     ]
    }
   ],
   "source": [
    "# Task 1:\n",
    "\n",
    "import numpy as np\n",
    "\n",
    "# 1. Create arrays\n",
    "array_1d = np.arange(1, 11)\n",
    "array_2d = np.arange(1, 10).reshape(3, 3)\n",
    "array_3d = np.random.random((3, 5, 3))\n",
    "\n",
    "# 2. Display shape, size, and data type of each array\n",
    "print(\"1D Array:\")\n",
    "print(array_1d)\n",
    "print(f\"Shape: {array_1d.shape}, Size: {array_1d.size}, Data type: {array_1d.dtype}\\n\")\n",
    "\n",
    "print(\"2D Array:\")\n",
    "print(array_2d)\n",
    "print(f\"Shape: {array_2d.shape}, Size: {array_2d.size}, Data type: {array_2d.dtype}\\n\")\n",
    "\n",
    "print(\"3D Array:\")\n",
    "print(array_3d)\n",
    "print(f\"Shape: {array_3d.shape}, Size: {array_3d.size}, Data type: {array_3d.dtype}\")\n"
   ]
  },
  {
   "cell_type": "code",
   "execution_count": 3,
   "id": "4555c9ba-87de-41a6-be7f-dd12901924ef",
   "metadata": {},
   "outputs": [
    {
     "name": "stdout",
     "output_type": "stream",
     "text": [
      "Original Array: [10 20 30 40 50 60 70 80 90]\n",
      "\n",
      "First three elements: [10 20 30]\n",
      "\n",
      "Every alternate element: [10 30 50 70 90]\n",
      "\n",
      "Reversed array: [90 80 70 60 50 40 30 20 10]\n"
     ]
    }
   ],
   "source": [
    "# Task 2:\n",
    "# 1. Create the NumPy array\n",
    "data = [10, 20, 30, 40, 50, 60, 70, 80, 90]\n",
    "array = np.array(data)\n",
    "\n",
    "# 2. Perform required slicing operations\n",
    "first_three = array[:3]\n",
    "alternate_elements = array[::2]\n",
    "reversed_array = array[::-1]\n",
    "\n",
    "print(\"Original Array:\",array)\n",
    "print(\"\\nFirst three elements:\",first_three)\n",
    "print(\"\\nEvery alternate element:\",alternate_elements)\n",
    "print(\"\\nReversed array:\",reversed_array)\n",
    "\n"
   ]
  },
  {
   "cell_type": "code",
   "execution_count": 10,
   "id": "d7c612fe-5475-4a09-92f8-8b3c62dd6d14",
   "metadata": {},
   "outputs": [
    {
     "name": "stdout",
     "output_type": "stream",
     "text": [
      "Array A: [10 14  8  4 11]\n",
      "Array B: [15  9 16 12  9]\n",
      "\n",
      "Addition: [25 23 24 16 20]\n",
      "Subtraction: [-5  5 -8 -8  2]\n",
      "Multiplication: [150 126 128  48  99]\n",
      "Division: [0.66666667 1.55555556 0.5        0.33333333 1.22222222]\n",
      "\n",
      "Dot Product: 551\n",
      "Mean A: 9.4\n",
      "Median A: 10.0\n",
      "Standard Deviation A: 3.32264954516723\n",
      "Variance A: 11.040000000000001\n",
      "\n",
      "Max B: 16 at index 2\n",
      "Min B: 9 at index 1\n"
     ]
    }
   ],
   "source": [
    "# Task 3:\n",
    "\n",
    "A = np.random.randint(1, 21, 5)\n",
    "B = np.random.randint(1, 21, 5)\n",
    "print(\"Array A:\", A)\n",
    "print(\"Array B:\", B)\n",
    "\n",
    "print(\"\\nAddition:\", A + B)\n",
    "print(\"Subtraction:\", A - B)\n",
    "print(\"Multiplication:\", A * B)\n",
    "print(\"Division:\", A / B)\n",
    "\n",
    "dot_product = np.dot(A, B)\n",
    "print(\"\\nDot Product:\", dot_product)\n",
    "\n",
    "print(\"Mean A:\", np.mean(A))\n",
    "print(\"Median A:\", np.median(A))\n",
    "print(\"Standard Deviation A:\", np.std(A))\n",
    "print(\"Variance A:\", np.var(A))\n",
    "\n",
    "max_value = np.max(B)\n",
    "min_value = np.min(B)\n",
    "max_index = np.argmax(B)\n",
    "min_index = np.argmin(B)\n",
    "\n",
    "print(\"\\nMax B:\", max_value, \"at index\", max_index)\n",
    "print(\"Min B:\", min_value, \"at index\", min_index)\n"
   ]
  },
  {
   "cell_type": "code",
   "execution_count": 14,
   "id": "47813a42-16f7-47d2-b843-7bb6b38d8fb0",
   "metadata": {},
   "outputs": [
    {
     "name": "stdout",
     "output_type": "stream",
     "text": [
      "Original Array: [ 1  2  3  4  5  6  7  8  9 10 11 12]\n",
      "\n",
      "Reshaped to 2D (4x3): [[ 1  2  3]\n",
      " [ 4  5  6]\n",
      " [ 7  8  9]\n",
      " [10 11 12]]\n",
      "\n",
      "Reshaped to 3D (2x2x3): [[[ 1  2  3]\n",
      "  [ 4  5  6]]\n",
      "\n",
      " [[ 7  8  9]\n",
      "  [10 11 12]]]\n",
      "\n",
      "Transpose [[ 1  4  7 10]\n",
      " [ 2  5  8 11]\n",
      " [ 3  6  9 12]]\n",
      "Transpose Shape: (3, 4)\n"
     ]
    }
   ],
   "source": [
    "# Task 4:\n",
    "\n",
    "array_1d = np.arange(1, 13)\n",
    "print(\"Original Array:\",array_1d)\n",
    "\n",
    "# Reshape\n",
    "array_2d = array_1d.reshape(4, 3)\n",
    "print(\"\\nReshaped to 2D (4x3):\",array_2d)\n",
    "\n",
    "array_3d = array_1d.reshape(2, 2, 3)\n",
    "print(\"\\nReshaped to 3D (2x2x3):\",array_3d)\n",
    "\n",
    "# Transpose\n",
    "array_2d_transposed = array_2d.T\n",
    "print(\"\\nTranspose\",array_2d_transposed)\n",
    "print(\"Transpose Shape:\", array_2d_transposed.shape)\n"
   ]
  },
  {
   "cell_type": "code",
   "execution_count": 16,
   "id": "bfd3fef1-561f-4811-af3d-44a8fd603001",
   "metadata": {},
   "outputs": [
    {
     "name": "stdout",
     "output_type": "stream",
     "text": [
      "Original Array: [19 28 21 30 26 21 20 32 32 39 26 18 36 19 36]\n",
      "\n",
      "Elements greater than 25: [28 30 26 32 32 39 26 36 36]\n",
      "\n",
      "Array after replacing elements < 30 with 0: [ 0  0  0 30  0  0  0 32 32 39  0  0 36  0 36]\n",
      "\n",
      "Number of elements divisible by 5: 2\n"
     ]
    }
   ],
   "source": [
    "# Task 5:\n",
    "# Boolean Masking and Filtering \n",
    "\n",
    "array = np.random.randint(10, 51, 15)\n",
    "print(\"Original Array:\",array)\n",
    "\n",
    "greater_than_25 = array[array > 25]\n",
    "print(\"\\nElements greater than 25:\",greater_than_25)\n",
    "\n",
    "modified_array = array.copy()\n",
    "modified_array[modified_array < 30] = 0\n",
    "print(\"\\nArray after replacing elements < 30 with 0:\",modified_array)\n",
    "\n",
    "div_by_5_count = np.sum(array % 5 == 0)\n",
    "print(\"\\nNumber of elements divisible by 5:\", div_by_5_count)\n"
   ]
  },
  {
   "cell_type": "code",
   "execution_count": 18,
   "id": "967ab4d5-2472-4c53-837e-6ad06cb566e3",
   "metadata": {},
   "outputs": [
    {
     "name": "stdout",
     "output_type": "stream",
     "text": [
      "10 equally spaced values between 0 and 1: [0.         0.11111111 0.22222222 0.33333333 0.44444444 0.55555556\n",
      " 0.66666667 0.77777778 0.88888889 1.        ]\n",
      "4×4 Identity matrix: [[1. 0. 0. 0.]\n",
      " [0. 1. 0. 0.]\n",
      " [0. 0. 1. 0.]\n",
      " [0. 0. 0. 1.]]\n",
      "Random integers : [16 58 62 59 15 49 90 12 93 68 66  7 38 48 10 78 44 53 41 41]\n",
      "\n",
      "Sorted integers: [ 7 10 12 15 16 38 41 41 44 48 49 53 58 59 62 66 68 78 90 93]\n",
      "\n",
      "Five largest integers: [66 68 78 90 93]\n"
     ]
    }
   ],
   "source": [
    "# Task 6: Working with Built-in Functions \n",
    "\n",
    "linspace_arr = np.linspace(0, 1, 10)\n",
    "\n",
    "identity_mat = np.eye(4)       \n",
    "\n",
    "rand_ints = np.random.randint(1, 101, size=20)\n",
    "sorted_ints = np.sort(rand_ints)    \n",
    "largest_five = sorted_ints[-5:]           \n",
    "\n",
    "print(\"10 equally spaced values between 0 and 1:\",linspace_arr)\n",
    "print(\"4×4 Identity matrix:\",identity_mat)\n",
    "print(\"Random integers :\",rand_ints)\n",
    "print(\"\\nSorted integers:\",sorted_ints)\n",
    "print(\"\\nFive largest integers:\",largest_five)\n",
    "\n"
   ]
  },
  {
   "cell_type": "code",
   "execution_count": 19,
   "id": "b2a3e543-09b1-4192-8754-bd14597e61a6",
   "metadata": {},
   "outputs": [
    {
     "name": "stdout",
     "output_type": "stream",
     "text": [
      "Determinant of the result matrix: 6.01585369597092e+50\n",
      "Inverse calculated successfully.\n",
      "\n",
      "Time taken for matrix multiplication, determinant and inversion: 0.0789 seconds\n"
     ]
    }
   ],
   "source": [
    "# Task 7: Generic \n",
    "\n",
    "import time\n",
    "np.random.seed(0)  \n",
    "A = np.random.rand(100, 100)\n",
    "B = np.random.rand(100, 100)\n",
    "\n",
    "start_time = time.time()\n",
    "\n",
    "C = np.dot(A, B)\n",
    "\n",
    "try:\n",
    "    determinant = np.linalg.det(C)\n",
    "    inverse = np.linalg.inv(C)\n",
    "    print(\"Determinant of the result matrix:\", determinant)\n",
    "    print(\"Inverse calculated successfully.\")\n",
    "except np.linalg.LinAlgError:\n",
    "    print(\"Matrix is singular, inverse cannot be computed.\")\n",
    "    determinant = None\n",
    "    inverse = None\n",
    "\n",
    "# Measure end time\n",
    "end_time = time.time()\n",
    "elapsed_time = end_time - start_time\n",
    "print(f\"\\nTime taken for matrix multiplication, determinant and inversion: {elapsed_time:.4f} seconds\")\n"
   ]
  }
 ],
 "metadata": {
  "kernelspec": {
   "display_name": "Python [conda env:base] *",
   "language": "python",
   "name": "conda-base-py"
  },
  "language_info": {
   "codemirror_mode": {
    "name": "ipython",
    "version": 3
   },
   "file_extension": ".py",
   "mimetype": "text/x-python",
   "name": "python",
   "nbconvert_exporter": "python",
   "pygments_lexer": "ipython3",
   "version": "3.12.7"
  }
 },
 "nbformat": 4,
 "nbformat_minor": 5
}
