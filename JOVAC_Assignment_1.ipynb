{
 "cells": [
  {
   "cell_type": "code",
   "execution_count": 6,
   "id": "8b0d0efd-cae3-435a-9c14-9941259b0e16",
   "metadata": {},
   "outputs": [
    {
     "name": "stdin",
     "output_type": "stream",
     "text": [
      " a\n"
     ]
    },
    {
     "name": "stdout",
     "output_type": "stream",
     "text": [
      "Caught custom exception: invalid literal for int() with base 10: 'a'\n",
      "See...got the error!!\n"
     ]
    }
   ],
   "source": [
    "# 1-Custom Exception\n",
    "try:\n",
    "    while True:                       \n",
    "        line=int(input())\n",
    "except ValueError as e:\n",
    "    print(\"Caught custom exception:\", e)\n",
    "    print(\"See...got the error!!\")\n",
    "except EOFError:\n",
    "    print(\"Done reading input.\")\n"
   ]
  },
  {
   "cell_type": "code",
   "execution_count": 8,
   "id": "919a45af-fd12-4f4d-bd4d-ee3ad946c3bc",
   "metadata": {},
   "outputs": [
    {
     "name": "stdout",
     "output_type": "stream",
     "text": [
      "DataFrame written to students_dataset.csv.\n",
      "Data read from students_dataset.csv:\n",
      "      Name  Age Grade\n",
      "0      Jay   20     A\n",
      "1  Jasmine   22     B\n",
      "2     Yuri   19     C\n"
     ]
    }
   ],
   "source": [
    "# Create a 2‑D “student” array and write it to CSV\n",
    "\n",
    "import pandas as pd\n",
    "\n",
    "data = {\n",
    "    \"Name\" : [\"Jay\", \"Jasmine\", \"Yuri\"],\n",
    "    \"Age\"  : [20, 22, 19],\n",
    "    \"Grade\": [\"A\", \"B\", \"C\"]\n",
    "}\n",
    "\n",
    "df = pd.DataFrame(data)\n",
    "\n",
    "# Write to CSV\n",
    "csv_file = \"students_dataset.csv\"\n",
    "df.to_csv(csv_file, index=False)\n",
    "print(f\"DataFrame written to {csv_file}.\")\n",
    "\n",
    "# Read it back\n",
    "df_read = pd.read_csv(\"students_dataset.csv\")\n",
    "print(\"Data read from students_dataset.csv:\")\n",
    "print(df_read)"
   ]
  }
 ],
 "metadata": {
  "kernelspec": {
   "display_name": "Python [conda env:base] *",
   "language": "python",
   "name": "conda-base-py"
  },
  "language_info": {
   "codemirror_mode": {
    "name": "ipython",
    "version": 3
   },
   "file_extension": ".py",
   "mimetype": "text/x-python",
   "name": "python",
   "nbconvert_exporter": "python",
   "pygments_lexer": "ipython3",
   "version": "3.12.7"
  }
 },
 "nbformat": 4,
 "nbformat_minor": 5
}
